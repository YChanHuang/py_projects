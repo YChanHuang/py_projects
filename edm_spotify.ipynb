{
 "metadata": {
  "language_info": {
   "codemirror_mode": {
    "name": "ipython",
    "version": 3
   },
   "file_extension": ".py",
   "mimetype": "text/x-python",
   "name": "python",
   "nbconvert_exporter": "python",
   "pygments_lexer": "ipython3",
   "version": "3.8.1-final"
  },
  "orig_nbformat": 2,
  "kernelspec": {
   "name": "python3",
   "display_name": "Python 3",
   "language": "python"
  }
 },
 "nbformat": 4,
 "nbformat_minor": 2,
 "cells": [
  {
   "cell_type": "code",
   "execution_count": 34,
   "metadata": {},
   "outputs": [],
   "source": [
    "import pandas as pd\n",
    "import chartify # data visualisation package\n",
    "import io #file handling library\n"
   ]
  },
  {
   "source": [
    "## Solve cannot find module named XXX\n",
    "1. In VS code _`import sys`_ for finding the package install path\n",
    "\n",
    "2. In VS code _`sys.executable`_ to examine which python is called from\n",
    "\n",
    "3. go to _`terminal`_  type _`pip show xxx`_ to find the path of installed packages \n",
    "\n",
    "4. In VS code _`sys.path.append('[path]')`_ change the which path to search the path.\n",
    "\n"
   ],
   "cell_type": "markdown",
   "metadata": {}
  },
  {
   "cell_type": "code",
   "execution_count": 5,
   "metadata": {},
   "outputs": [],
   "source": [
    "import spotipy as sp\n",
    "import config # to read spotify kpi key\n",
    "from spotipy.oauth2 import SpotifyClientCredentials\n"
   ]
  },
  {
   "cell_type": "code",
   "execution_count": 3,
   "metadata": {},
   "outputs": [],
   "source": [
    "import sys\n",
    "# sys.executable \n",
    "sys.path.append('/opt/anaconda3/lib/python3.8/site-packages')"
   ]
  },
  {
   "cell_type": "code",
   "execution_count": 6,
   "metadata": {},
   "outputs": [],
   "source": [
    "# read the data from\n"
   ]
  },
  {
   "cell_type": "code",
   "execution_count": 38,
   "metadata": {
    "tags": []
   },
   "outputs": [
    {
     "output_type": "error",
     "ename": "TypeError",
     "evalue": "'NoneType' object is not callable",
     "traceback": [
      "\u001b[0;31m---------------------------------------------------------------------------\u001b[0m",
      "\u001b[0;31mTypeError\u001b[0m                                 Traceback (most recent call last)",
      "\u001b[0;32m<ipython-input-38-a2bff0444ba1>\u001b[0m in \u001b[0;36m<module>\u001b[0;34m\u001b[0m\n\u001b[1;32m     19\u001b[0m         \u001b[0;31m#Call Beautifulsoup with lxml parser\u001b[0m\u001b[0;34m\u001b[0m\u001b[0;34m\u001b[0m\u001b[0;34m\u001b[0m\u001b[0m\n\u001b[1;32m     20\u001b[0m         \u001b[0msoup\u001b[0m \u001b[0;34m=\u001b[0m \u001b[0mBeautifulSoup\u001b[0m\u001b[0;34m(\u001b[0m\u001b[0mhtml_response\u001b[0m\u001b[0;34m,\u001b[0m \u001b[0;34m'lxml'\u001b[0m\u001b[0;34m)\u001b[0m\u001b[0;34m\u001b[0m\u001b[0;34m\u001b[0m\u001b[0m\n\u001b[0;32m---> 21\u001b[0;31m         \u001b[0mname\u001b[0m \u001b[0;34m=\u001b[0m \u001b[0msoup\u001b[0m\u001b[0;34m.\u001b[0m\u001b[0mfindall\u001b[0m\u001b[0;34m(\u001b[0m\u001b[0mclass_\u001b[0m \u001b[0;34m=\u001b[0m \u001b[0;34m'top100dj-name'\u001b[0m\u001b[0;34m)\u001b[0m\u001b[0;34m\u001b[0m\u001b[0;34m\u001b[0m\u001b[0m\n\u001b[0m\u001b[1;32m     22\u001b[0m         \u001b[0mprint\u001b[0m\u001b[0;34m(\u001b[0m\u001b[0mname\u001b[0m\u001b[0;34m.\u001b[0m\u001b[0mprettify\u001b[0m\u001b[0;34m(\u001b[0m\u001b[0;34m)\u001b[0m\u001b[0;34m)\u001b[0m\u001b[0;34m\u001b[0m\u001b[0;34m\u001b[0m\u001b[0m\n\u001b[1;32m     23\u001b[0m \u001b[0;34m\u001b[0m\u001b[0m\n",
      "\u001b[0;31mTypeError\u001b[0m: 'NoneType' object is not callable"
     ]
    }
   ],
   "source": [
    "import requests \n",
    "from urllib.request import urlopen\n",
    "from bs4 import BeautifulSoup\n",
    "import io # file handling\n",
    "import time # accessing time controller\n",
    "\n",
    "\n",
    "# djmag = 'https://djmag.com/top100dj?year=2015'\n",
    "time.sleep(0.01)\n",
    "\n",
    "with io.open('djmag_rank.txt', 'ab+'):\n",
    "# with io.open(Dj100_historical_data, 'ab+') as fp:\n",
    "    # year_list = range(2004,2021) \n",
    "    year_list = [2004, 2005, 2006]\n",
    "    for yrs in year_list:\n",
    "        link = 'https://djmag.com/top100dj?year=' + str(yrs)\n",
    "        response = requests.get(link) # get the webpages\n",
    "        html_response = response.text\n",
    "        #Call Beautifulsoup with lxml parser\n",
    "        soup = BeautifulSoup(html_response, 'lxml')\n",
    "        name = soup.findall(class_ = 'top100dj-name')\n",
    "        \n",
    "        \n",
    "\n",
    "# print(soup.prettify()) # examine the structure\n",
    "        # for url in soup.findAll('a', {'class': })\n",
    "        \n",
    "        # html_doc = response.text # find the text which is html\n",
    "        # soup = BeautifulSoup()\n",
    "       "
   ]
  },
  {
   "cell_type": "code",
   "execution_count": 158,
   "metadata": {},
   "outputs": [
    {
     "output_type": "error",
     "ename": "SyntaxError",
     "evalue": "unexpected EOF while parsing (<ipython-input-158-c03c02deee98>, line 13)",
     "traceback": [
      "\u001b[0;36m  File \u001b[0;32m\"<ipython-input-158-c03c02deee98>\"\u001b[0;36m, line \u001b[0;32m13\u001b[0m\n\u001b[0;31m    \u001b[0m\n\u001b[0m    ^\u001b[0m\n\u001b[0;31mSyntaxError\u001b[0m\u001b[0;31m:\u001b[0m unexpected EOF while parsing\n"
     ]
    }
   ],
   "source": [
    "\n",
    "link = 'https://djmag.com/top100dj?year=2020'\n",
    "response = requests.get(link) # get the webpages\n",
    "html_response = response.text\n",
    "#Call Beautifulsoup with lxml parser\n",
    "soup = BeautifulSoup(html_response, 'html.parser')\n",
    "# name = soup.select('top100dj-name')\n",
    "names = soup.find_all('div', class_ = 'top100dj-name')\n",
    "# print(names)\n",
    "for name in names:\n",
    "    if name.a != None: #\n",
    "        # print(name.a.string)\n",
    "\n",
    "        "
   ]
  },
  {
   "cell_type": "code",
   "execution_count": null,
   "metadata": {},
   "outputs": [],
   "source": [
    "from selenium import webdriver\n",
    "from webdriver_manager.chrome import ChromeDriverManager\n",
    "from bs4 import BeautifulSoup\n",
    "import pandas as pd\n",
    " "
   ]
  },
  {
   "cell_type": "code",
   "execution_count": 161,
   "metadata": {},
   "outputs": [],
   "source": [
    "import sys\n",
    "# sys.executable \n",
    "sys.path.append('/opt/anaconda3/lib/python3.8/site-packages')\n",
    "from selenium import webdriver\n",
    "from webdriver_manager.chrome import ChromeDriverManager\n",
    "from bs4 import BeautifulSoup\n",
    "import pandas as pd"
   ]
  },
  {
   "cell_type": "code",
   "execution_count": 160,
   "metadata": {
    "tags": []
   },
   "outputs": [
    {
     "output_type": "stream",
     "name": "stdout",
     "text": [
      "      Year                    DJ_Name  ranking\n0     2004               David Guetta        1\n1     2004  Dimitri Vegas & Like Mike        2\n2     2004              Martin Garrix        3\n3     2004           Armin Van Buuren        4\n4     2004                       Alok        5\n...    ...                        ...      ...\n1695  2020   Dimitri Vangelis & Wyman       96\n1696  2020                   Blastoyz       97\n1697  2020                  22Bullets       98\n1698  2020               Robin Schulz       99\n1699  2020               Marco Carola      100\n\n[1700 rows x 3 columns]\n"
     ]
    }
   ],
   "source": [
    "# link = 'https://djmag.com/top100dj?year=2020'\n",
    "# response = requests.get(link) # get the webpages\n",
    "import pandas as pd\n",
    "# year_list = [2004, 2005, 2006]\n",
    "year_list = range(2004,2021) \n",
    "result = []\n",
    "\n",
    "for years in year_list:\n",
    "    html_response = response.text\n",
    "    #Call Beautifulsoup with lxml parser\n",
    "    soup = BeautifulSoup(html_response, 'html.parser')\n",
    "    # name = soup.select('top100dj-name')\n",
    "    names = soup.find_all('div', class_ = 'top100dj-name')\n",
    "    # print(names)\n",
    "    ranking = 0\n",
    "    for name in names:\n",
    "        if name.a != None: #\n",
    "            dj = name.a.string\n",
    "            year = yrs\n",
    "            if ranking > 100:\n",
    "                ranking = 0\n",
    "            ranking += 1\n",
    "            \n",
    "# print(result) \n",
    "        result.append((int(years), dj, int(ranking),))\n",
    "df = pd.DataFrame(result, columns = ['Year', 'DJ_Name', 'ranking'])            \n",
    "print(df)\n",
    "browser.quit() "
   ]
  },
  {
   "source": [
    "REF [爬蟲教學](https://zx2515296964.medium.com/python-%E6%95%99%E5%AD%B8-%E7%B0%A1%E5%96%AE%E5%B9%BE%E6%AD%A5%E9%A9%9F-%E8%AE%93%E4%BD%A0%E8%BC%95%E9%AC%86%E7%88%AC%E8%9F%B2-928a816051c1)"
   ],
   "cell_type": "markdown",
   "metadata": {}
  },
  {
   "source": [
    " # <a href=\"/content/tiesto-1\"></a>\n",
    "\n",
    "        ### this the next page to introduce DJ\n",
    "        # <div class=\"field__item even\">Paul van Dyk</div>\n",
    "\n",
    "![top1](https://i.imgur.com/jFO1IQr.jpg)\n",
    "        ## top DJ names\n",
    "        # <a href=\"/top-100-djs/poll-2020-david-guetta\">David Guetta</a>\n",
    "\n",
    "![Different Sections](https://i.imgur.com/kpvCtey.jpg)"
   ],
   "cell_type": "markdown",
   "metadata": {}
  },
  {
   "cell_type": "code",
   "execution_count": 23,
   "metadata": {
    "tags": [
     "outputPrepend"
    ]
   },
   "outputs": [
    {
     "output_type": "stream",
     "name": "stdout",
     "text": [
      "ublic/top100/djs/image/Andy%20C%20.jpg?itok=GVhVVaAq\" title=\"andy c\"/>\n               </a>\n               <figcaption class=\"media--image--caption\">\n                andy c\n               </figcaption>\n              </figure>\n             </div>\n            </a>\n           </div>\n          </div>\n          <div class=\"views-field views-field-field-top100-position\">\n           <div class=\"field-content\">\n            92\n           </div>\n          </div>\n          <div class=\"views-field views-field-field-top100-places\">\n           <div class=\"field-content\">\n            <div class=\"top100dj-title-bar-rest\">\n             <div class=\"top100dj-name\">\n              <a href=\"/top-100-djs/poll-2015-andy-c\">\n               Andy C\n              </a>\n             </div>\n             <div class=\"top100dj-movement\">\n              Re-entry\n             </div>\n            </div>\n           </div>\n          </div>\n         </article>\n        </div>\n        <div class=\"container_with_line\" id=\"10548\">\n         <article>\n          <div class=\"views-field views-field-field-media\">\n           <div class=\"field-content\">\n            <a href=\"/top-100-djs/poll-2015-quentin-mosimann\">\n             <div class=\"media\" id=\"file-8042\">\n              <figure class=\"media--image\">\n               <a href=\"/top-100-djs/poll-2015-quentin-mosimann\">\n                <img alt=\"\" src=\"https://djmag.com/sites/default/files/styles/djmag_landscape/public/top100/djs/image/_MG_3283.jpg?itok=LgBEMvqn\"/>\n               </a>\n               <figcaption class=\"media--image--caption\">\n               </figcaption>\n              </figure>\n             </div>\n            </a>\n           </div>\n          </div>\n          <div class=\"views-field views-field-field-top100-position\">\n           <div class=\"field-content\">\n            93\n           </div>\n          </div>\n          <div class=\"views-field views-field-field-top100-places\">\n           <div class=\"field-content\">\n            <div class=\"top100dj-title-bar-rest\">\n             <div class=\"top100dj-name\">\n              <a href=\"/top-100-djs/poll-2015-quentin-mosimann\">\n               MOSIMANN\n              </a>\n             </div>\n             <div class=\"top100dj-movement\">\n              Down 22\n             </div>\n            </div>\n           </div>\n          </div>\n         </article>\n        </div>\n        <div class=\"container_with_line\" id=\"10543\">\n         <article>\n          <div class=\"views-field views-field-field-media\">\n           <div class=\"field-content\">\n            <a href=\"/top-100-djs/poll-2015-miss-k8\">\n             <div class=\"media\" id=\"file-7874\">\n              <figure class=\"media--image\">\n               <a href=\"/top-100-djs/poll-2015-miss-k8\">\n                <img alt=\"miss k8\" src=\"https://djmag.com/sites/default/files/styles/djmag_landscape/public/top100/djs/image/Miss%20K8.jpg?itok=bXuk0j3E\" title=\"miss k8\"/>\n               </a>\n               <figcaption class=\"media--image--caption\">\n                miss k8\n               </figcaption>\n              </figure>\n             </div>\n            </a>\n           </div>\n          </div>\n          <div class=\"views-field views-field-field-top100-position\">\n           <div class=\"field-content\">\n            94\n           </div>\n          </div>\n          <div class=\"views-field views-field-field-top100-places\">\n           <div class=\"field-content\">\n            <div class=\"top100dj-title-bar-rest\">\n             <div class=\"top100dj-name\">\n              <a href=\"/top-100-djs/poll-2015-miss-k8\">\n               Miss K8\n              </a>\n             </div>\n             <div class=\"top100dj-movement\">\n              New Entry\n             </div>\n            </div>\n           </div>\n          </div>\n         </article>\n        </div>\n        <div class=\"container_with_line\" id=\"10665\">\n         <article>\n          <div class=\"views-field views-field-field-media\">\n           <div class=\"field-content\">\n            <a href=\"/top-100-djs/poll-2015-tujamo\">\n             <div class=\"media\" id=\"file-7988\">\n              <figure class=\"media--image\">\n               <a href=\"/top-100-djs/poll-2015-tujamo\">\n                <img alt=\"tujamo\" src=\"https://djmag.com/sites/default/files/styles/djmag_landscape/public/top100/djs/image/TUJAMO_05.jpg?itok=sgo_TwrG\" title=\"tujamo\"/>\n               </a>\n               <figcaption class=\"media--image--caption\">\n                tujamo\n               </figcaption>\n              </figure>\n             </div>\n            </a>\n           </div>\n          </div>\n          <div class=\"views-field views-field-field-top100-position\">\n           <div class=\"field-content\">\n            95\n           </div>\n          </div>\n          <div class=\"views-field views-field-field-top100-places\">\n           <div class=\"field-content\">\n            <div class=\"top100dj-title-bar-rest\">\n             <div class=\"top100dj-name\">\n              <a href=\"/top-100-djs/poll-2015-tujamo\">\n               Tujamo\n              </a>\n             </div>\n             <div class=\"top100dj-movement\">\n              New Entry\n             </div>\n            </div>\n           </div>\n          </div>\n         </article>\n        </div>\n        <div class=\"container_with_line\" id=\"10541\">\n         <article>\n          <div class=\"views-field views-field-field-media\">\n           <div class=\"field-content\">\n            <a href=\"/top-100-djs/poll-2015-mike-candys\">\n             <div class=\"media\" id=\"file-7873\">\n              <figure class=\"media--image\">\n               <a href=\"/top-100-djs/poll-2015-mike-candys\">\n                <img alt=\"mike candys\" src=\"https://djmag.com/sites/default/files/styles/djmag_landscape/public/top100/djs/image/Mike_Candys.jpg?itok=YOcvQ7Or\" title=\"mike candys\"/>\n               </a>\n               <figcaption class=\"media--image--caption\">\n                mike candys\n               </figcaption>\n              </figure>\n             </div>\n            </a>\n           </div>\n          </div>\n          <div class=\"views-field views-field-field-top100-position\">\n           <div class=\"field-content\">\n            96\n           </div>\n          </div>\n          <div class=\"views-field views-field-field-top100-places\">\n           <div class=\"field-content\">\n            <div class=\"top100dj-title-bar-rest\">\n             <div class=\"top100dj-name\">\n              <a href=\"/top-100-djs/poll-2015-mike-candys\">\n               Mike Candys\n              </a>\n             </div>\n             <div class=\"top100dj-movement\">\n              Down 12\n             </div>\n            </div>\n           </div>\n          </div>\n         </article>\n        </div>\n        <div class=\"container_with_line\" id=\"10662\">\n         <article>\n          <div class=\"views-field views-field-field-media\">\n           <div class=\"field-content\">\n            <a href=\"/top-100-djs/poll-2015-swanky-tunes\">\n             <div class=\"media\" id=\"file-7986\">\n              <figure class=\"media--image\">\n               <a href=\"/top-100-djs/poll-2015-swanky-tunes\">\n                <img alt=\"swanky tunes\" src=\"https://djmag.com/sites/default/files/styles/djmag_landscape/public/top100/djs/image/Swanky_Tunes.jpg?itok=35i1DZfE\" title=\"swanky tunes\"/>\n               </a>\n               <figcaption class=\"media--image--caption\">\n                swanky tunes\n               </figcaption>\n              </figure>\n             </div>\n            </a>\n           </div>\n          </div>\n          <div class=\"views-field views-field-field-top100-position\">\n           <div class=\"field-content\">\n            97\n           </div>\n          </div>\n          <div class=\"views-field views-field-field-top100-places\">\n           <div class=\"field-content\">\n            <div class=\"top100dj-title-bar-rest\">\n             <div class=\"top100dj-name\">\n              <a href=\"/top-100-djs/poll-2015-swanky-tunes\">\n               Swanky Tunes\n              </a>\n             </div>\n             <div class=\"top100dj-movement\">\n              New Entry\n             </div>\n            </div>\n           </div>\n          </div>\n         </article>\n        </div>\n        <div class=\"container_with_line\" id=\"10658\">\n         <article>\n          <div class=\"views-field views-field-field-media\">\n           <div class=\"field-content\">\n            <a href=\"/top-100-djs/poll-2015-galantis\">\n             <div class=\"media\" id=\"file-7984\">\n              <figure class=\"media--image\">\n               <a href=\"/top-100-djs/poll-2015-galantis\">\n                <img alt=\"galantis\" src=\"https://djmag.com/sites/default/files/styles/djmag_landscape/public/top100/djs/image/Galantis.jpg?itok=Z0diYsG-\" title=\"galantis\"/>\n               </a>\n               <figcaption class=\"media--image--caption\">\n                galantis\n               </figcaption>\n              </figure>\n             </div>\n            </a>\n           </div>\n          </div>\n          <div class=\"views-field views-field-field-top100-position\">\n           <div class=\"field-content\">\n            98\n           </div>\n          </div>\n          <div class=\"views-field views-field-field-top100-places\">\n           <div class=\"field-content\">\n            <div class=\"top100dj-title-bar-rest\">\n             <div class=\"top100dj-name\">\n              <a href=\"/top-100-djs/poll-2015-galantis\">\n               Galantis\n              </a>\n             </div>\n             <div class=\"top100dj-movement\">\n              New Entry\n             </div>\n            </div>\n           </div>\n          </div>\n         </article>\n        </div>\n        <div class=\"container_with_line\" id=\"10655\">\n         <article>\n          <div class=\"views-field views-field-field-media\">\n           <div class=\"field-content\">\n            <a href=\"/top-100-djs/poll-2015-cosmic-gate\">\n             <div class=\"media\" id=\"file-7982\">\n              <figure class=\"media--image\">\n               <a href=\"/top-100-djs/poll-2015-cosmic-gate\">\n                <img alt=\"cosmic gate\" src=\"https://djmag.com/sites/default/files/styles/djmag_landscape/public/top100/djs/image/CosmicGate-2014-1_0.jpg?itok=2z7erRk3\" title=\"cosmic gate\"/>\n               </a>\n               <figcaption class=\"media--image--caption\">\n                cosmic gate\n               </figcaption>\n              </figure>\n             </div>\n            </a>\n           </div>\n          </div>\n          <div class=\"views-field views-field-field-top100-position\">\n           <div class=\"field-content\">\n            99\n           </div>\n          </div>\n          <div class=\"views-field views-field-field-top100-places\">\n           <div class=\"field-content\">\n            <div class=\"top100dj-title-bar-rest\">\n             <div class=\"top100dj-name\">\n              <a href=\"/top-100-djs/poll-2015-cosmic-gate\">\n               Cosmic Gate\n              </a>\n             </div>\n             <div class=\"top100dj-movement\">\n              Down 30\n             </div>\n            </div>\n           </div>\n          </div>\n         </article>\n        </div>\n        <div class=\"container_with_line\" id=\"10652\">\n         <article>\n          <div class=\"views-field views-field-field-media\">\n           <div class=\"field-content\">\n            <a href=\"/top-100-djs/poll-2015-knife-party\">\n             <div class=\"media\" id=\"file-7978\">\n              <figure class=\"media--image\">\n               <a href=\"/top-100-djs/poll-2015-knife-party\">\n                <img alt=\"knife party\" src=\"https://djmag.com/sites/default/files/styles/djmag_landscape/public/top100/djs/image/KnifeParty.jpg?itok=i75AMMLQ\" title=\"knife party\"/>\n               </a>\n               <figcaption class=\"media--image--caption\">\n                knife party\n               </figcaption>\n              </figure>\n             </div>\n            </a>\n           </div>\n          </div>\n          <div class=\"views-field views-field-field-top100-position\">\n           <div class=\"field-content\">\n            100\n           </div>\n          </div>\n          <div class=\"views-field views-field-field-top100-places\">\n           <div class=\"field-content\">\n            <div class=\"top100dj-title-bar-rest\">\n             <div class=\"top100dj-name\">\n              <a href=\"/top-100-djs/poll-2015-knife-party\">\n               Knife Party\n              </a>\n             </div>\n             <div class=\"top100dj-movement\">\n              Down 47\n             </div>\n            </div>\n           </div>\n          </div>\n         </article>\n        </div>\n       </div>\n      </section>\n     </div>\n    </div>\n   </main>\n   <div class=\"_site--footer\">\n    <div class=\"_site--footer--banner\">\n     <a class=\"back-top--link\" href=\"#top\">\n      back to top\n     </a>\n     <div class=\"branding\">\n      <a class=\"branding--link--SMALL\" href=\"/\" title=\"DjMag\">\n       DJMAG\n      </a>\n     </div>\n    </div>\n    <div class=\"_site--navigation--section--link\">\n     <a class=\"navigation--section--link--toggle\" href=\"#\">\n      all sections\n     </a>\n    </div>\n    <div class=\"_site--navigation\">\n     <div class=\"_site--navigation-main\">\n      <div class=\"_site--navigation--container\">\n       <div class=\"navigation--scroll\">\n        <nav class=\"navigation--primary\" role=\"navigation\">\n         <a class=\"navigation--primary--link--HOME navigation--primary--link\" href=\"/latest\">\n          Latest\n         </a>\n         <a class=\"navigation--primary--link\" href=\"/news\">\n          News\n         </a>\n         <a class=\"navigation--primary--link\" href=\"/features\">\n          Features\n         </a>\n         <a class=\"navigation--primary--link\" href=\"/music\">\n          Music\n         </a>\n         <a class=\"navigation--primary--link\" href=\"/tech\">\n          Tech\n         </a>\n         <a class=\"navigation--primary--link\" href=\"/hq\">\n          Video\n         </a>\n         <a class=\"active-trail navigation--primary--link\" href=\"/\">\n          Top 100 Lists\n         </a>\n         <a class=\"navigation--primary--link\" href=\"http://djmagvote.cn\">\n          China Awards\n         </a>\n         <a class=\"navigation--primary--link\" href=\"http://djmagshop.com\">\n          Shop\n         </a>\n        </nav>\n       </div>\n      </div>\n     </div>\n     <div class=\"_site--navigation-section\">\n      <nav class=\"navigation--section\" role=\"navigation\">\n       <ul class=\"navigation--section--primary\">\n        <li class=\"navigation--section--primary--item\">\n         <a class=\"navigation--primary--link--HOME navigation--section--primary--link\" href=\"/latest\">\n          Latest\n         </a>\n        </li>\n        <li class=\"navigation--section--primary--item\">\n         <a class=\"navigation--section--primary--link\" href=\"/news\">\n          News\n         </a>\n        </li>\n        <li class=\"navigation--section--primary--item\">\n         <a class=\"navigation--section--primary--link\" href=\"/features\">\n          Features\n         </a>\n        </li>\n        <li class=\"navigation--section--primary--item\">\n         <a class=\"navigation--section--primary--link\" href=\"/music\">\n          Music\n         </a>\n         <ul class=\"navigation--section--secondary\">\n          <li class=\"navigation--section--secondary--item\">\n           <a class=\"navigation--section--secondary--link\" href=\"/musicreviews\">\n            Reviews\n           </a>\n          </li>\n          <li class=\"navigation--section--secondary--item\">\n           <a class=\"navigation--section--secondary--link\" href=\"/music\">\n            News\n           </a>\n          </li>\n         </ul>\n        </li>\n        <li class=\"navigation--section--primary--item\">\n         <a class=\"navigation--section--primary--link\" href=\"/tech\">\n          Tech\n         </a>\n        </li>\n        <li class=\"navigation--section--primary--item\">\n         <a class=\"navigation--section--primary--link\" href=\"/hq\">\n          Video\n         </a>\n         <ul class=\"navigation--section--secondary\">\n          <li class=\"navigation--section--secondary--item\">\n           <a class=\"navigation--section--secondary--link\" href=\"/longreads/dj-mag-live-broadcast-schedule\">\n            Live Schedule\n           </a>\n          </li>\n         </ul>\n        </li>\n        <li class=\"navigation--section--primary--item\">\n         <a class=\"active-trail navigation--section--primary--link\" href=\"/\">\n          Top 100 Lists\n         </a>\n         <ul class=\"navigation--section--secondary\">\n          <li class=\"navigation--section--secondary--item\">\n           <a class=\"active-trail navigation--section--secondary--link active\" href=\"/top100djs\">\n            Top 100 DJs\n           </a>\n          </li>\n          <li class=\"navigation--section--secondary--item\">\n           <a class=\"navigation--section--secondary--link\" href=\"https://djmag.com/longreads/alternative-top-100-djs-2020-powered-beatport\">\n            Alternative Top 100 DJs\n           </a>\n          </li>\n          <li class=\"navigation--section--secondary--item\">\n           <a class=\"navigation--section--secondary--link\" href=\"/top100clubs\">\n            Top 100 Clubs\n           </a>\n          </li>\n          <li class=\"navigation--section--secondary--item\">\n           <a class=\"navigation--section--secondary--link\" href=\"https://www.instagram.com/stories/highlights/17844193435446746/\">\n            Top 100 Festivals\n           </a>\n          </li>\n         </ul>\n        </li>\n        <li class=\"navigation--section--primary--item\">\n         <a class=\"navigation--section--primary--link\" href=\"http://djmagvote.cn\">\n          China Awards\n         </a>\n        </li>\n        <li class=\"navigation--section--primary--item\">\n         <a class=\"navigation--section--primary--link\" href=\"http://djmagshop.com\">\n          Shop\n         </a>\n        </li>\n       </ul>\n      </nav>\n     </div>\n    </div>\n   </div>\n   <div class=\"_site--footer--meta\">\n    <div class=\"_site--footer--meta--content\">\n     <nav class=\"navigation--footer\" role=\"contentinfo\">\n      <ul class=\"navigation--footer--list\">\n       <a class=\"navigation--footer--link\" href=\"http://djmag.com/info/about\">\n        About\n       </a>\n       <a class=\"navigation--footer--link\" href=\"http://newdjmag.djmag.com/content/advertising\">\n        Advertising\n       </a>\n       <a class=\"navigation--footer--link\" href=\"http://djmag.com/content/submit-article\">\n        Editorial\n       </a>\n       <a class=\"navigation--footer--link\" href=\"https://djmag.com/info/media-inquiries\">\n        Media Inquiries\n       </a>\n       <a class=\"navigation--footer--link\" href=\"http://www.djmag.com/content/careers-dj-mag\">\n        Jobs\n       </a>\n       <a class=\"navigation--footer--link\" href=\"http://djmag.com/terms\">\n        Terms &amp; Conditions\n       </a>\n       <a class=\"navigation--footer--link\" href=\"https://djmag.com/info/our-data-protection-privacy-policy\">\n        PRIVACY POLICY\n       </a>\n       <a class=\"navigation--footer--link\" href=\"https://djmag.com/info/dj-mags-covid-19-policy\">\n        COVID-19 Workplace Policy\n       </a>\n       <a class=\"navigation--footer--link\" href=\"https://djmag.com/longreads/dj-mag-our-pledge-you\">\n        Our Diversity Pledge\n       </a>\n      </ul>\n     </nav>\n     <div class=\"_site--footer--meta--copyright\">\n      <p>\n       Thrust Publishing Ltd, Unit 3, 30-40 Underwood Street, London, N1 7JQ, United Kingdom. Tel: +44(0)7940488008\n      </p>\n     </div>\n    </div>\n   </div>\n  </div>\n  <!-- Quantcast Tag -->\n  <script type=\"text/javascript\">\n   var _qevents = _qevents || [];\n\n(function() {\nvar elem = document.createElement('script');\nelem.src = (document.location.protocol == \"https:\" ? \"https://secure\" : \"http://edge\") + \".quantserve.com/quant.js\";\nelem.async = true;\nelem.type = \"text/javascript\";\nvar scpt = document.getElementsByTagName('script')[0];\nscpt.parentNode.insertBefore(elem, scpt);\n})();\n\n_qevents.push({\nqacct:\"p-AXpn2y3urP4wm\"\n});\n  </script>\n  <noscript>\n   <div style=\"display:none;\">\n    <img alt=\"Quantcast\" border=\"0\" height=\"1\" src=\"//pixel.quantserve.com/pixel/p-AXpn2y3urP4wm.gif\" width=\"1\"/>\n   </div>\n  </noscript>\n  <!-- End Quantcast tag -->\n </body>\n</html>\n\n"
     ]
    }
   ],
   "source": [
    "## test\n",
    "response = requests.get(djmag) # get the webpages\n",
    "html_response = response.content\n",
    "#Call Beautifulsoup with lxml parser\n",
    "soup = BeautifulSoup(html_response, 'lxml')\n",
    "print(soup.prettify())"
   ]
  },
  {
   "cell_type": "code",
   "execution_count": 24,
   "metadata": {},
   "outputs": [
    {
     "output_type": "stream",
     "name": "stdout",
     "text": [
      "2004 2005\n"
     ]
    }
   ],
   "source": [
    "\n",
    "print(enum())"
   ]
  },
  {
   "cell_type": "code",
   "execution_count": null,
   "metadata": {},
   "outputs": [],
   "source": []
  }
 ]
}